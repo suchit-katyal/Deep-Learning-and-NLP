{
 "cells": [
  {
   "cell_type": "code",
   "execution_count": 4,
   "id": "d6906b8e",
   "metadata": {},
   "outputs": [],
   "source": [
    "import tensorflow as tf\n",
    "from keras.preprocessing.image import ImageDataGenerator"
   ]
  },
  {
   "cell_type": "code",
   "execution_count": 5,
   "id": "5ef8cdbd",
   "metadata": {},
   "outputs": [
    {
     "data": {
      "text/plain": [
       "'2.9.1'"
      ]
     },
     "execution_count": 5,
     "metadata": {},
     "output_type": "execute_result"
    }
   ],
   "source": [
    "tf.__version__"
   ]
  },
  {
   "cell_type": "code",
   "execution_count": 6,
   "id": "6cbed461",
   "metadata": {},
   "outputs": [
    {
     "name": "stdout",
     "output_type": "stream",
     "text": [
      "Found 704 images belonging to 4 classes.\n"
     ]
    }
   ],
   "source": [
    "train_datagen = ImageDataGenerator(rescale = 1./255,\n",
    "                                   shear_range = 0.2,\n",
    "                                   zoom_range = 0.2,\n",
    "                                   horizontal_flip = True)\n",
    "training_set = train_datagen.flow_from_directory(\"C:\\\\Users\\\\Kartik\\\\OneDrive\\\\Desktop\\\\lll\\\\train_data\",\n",
    "                                                 target_size = (64, 64),\n",
    "                                                 batch_size = 32,\n",
    "                                                 class_mode = 'sparse')"
   ]
  },
  {
   "cell_type": "code",
   "execution_count": 7,
   "id": "b41b32e1",
   "metadata": {},
   "outputs": [
    {
     "name": "stdout",
     "output_type": "stream",
     "text": [
      "Found 242 images belonging to 4 classes.\n"
     ]
    }
   ],
   "source": [
    "test_datagen = ImageDataGenerator(rescale = 1./255)\n",
    "test_set = test_datagen.flow_from_directory(\"C:\\\\Users\\\\Kartik\\\\OneDrive\\\\Desktop\\\\lll\\\\test\",\n",
    "                                            target_size = (64, 64),\n",
    "                                            batch_size = 32,\n",
    "                                            class_mode = 'sparse')"
   ]
  },
  {
   "cell_type": "code",
   "execution_count": 8,
   "id": "5e01cd8d",
   "metadata": {},
   "outputs": [],
   "source": [
    "cnn = tf.keras.models.Sequential()"
   ]
  },
  {
   "cell_type": "code",
   "execution_count": 9,
   "id": "9e840725",
   "metadata": {},
   "outputs": [],
   "source": [
    "cnn.add(tf.keras.layers.Conv2D(filters=32, kernel_size=3, activation='relu', input_shape=[64, 64, 3]))"
   ]
  },
  {
   "cell_type": "code",
   "execution_count": 10,
   "id": "81bc497c",
   "metadata": {},
   "outputs": [],
   "source": [
    "cnn.add(tf.keras.layers.MaxPool2D(pool_size=2, strides=2))"
   ]
  },
  {
   "cell_type": "code",
   "execution_count": 11,
   "id": "af193bc5",
   "metadata": {},
   "outputs": [],
   "source": [
    "cnn.add(tf.keras.layers.Conv2D(filters=32, kernel_size=3, activation='relu'))\n",
    "cnn.add(tf.keras.layers.MaxPool2D(pool_size=2, strides=2))"
   ]
  },
  {
   "cell_type": "code",
   "execution_count": 12,
   "id": "e8e9dae2",
   "metadata": {},
   "outputs": [],
   "source": [
    "cnn.add(tf.keras.layers.Flatten())"
   ]
  },
  {
   "cell_type": "code",
   "execution_count": 13,
   "id": "d52eee22",
   "metadata": {},
   "outputs": [],
   "source": [
    "cnn.add(tf.keras.layers.Dense(units=128, activation='relu'))"
   ]
  },
  {
   "cell_type": "code",
   "execution_count": 14,
   "id": "5223040a",
   "metadata": {},
   "outputs": [],
   "source": [
    "cnn.add(tf.keras.layers.Dense(units=5, activation='softmax'))"
   ]
  },
  {
   "cell_type": "code",
   "execution_count": 15,
   "id": "09aa1f64",
   "metadata": {},
   "outputs": [],
   "source": [
    "cnn.compile(optimizer = 'adam', loss = 'sparse_categorical_crossentropy', metrics = ['accuracy'])"
   ]
  },
  {
   "cell_type": "code",
   "execution_count": 16,
   "id": "e79f65f1",
   "metadata": {},
   "outputs": [
    {
     "name": "stdout",
     "output_type": "stream",
     "text": [
      "Epoch 1/25\n",
      "22/22 [==============================] - 5s 192ms/step - loss: 1.3901 - accuracy: 0.3892 - val_loss: 1.3372 - val_accuracy: 0.3802\n",
      "Epoch 2/25\n",
      "22/22 [==============================] - 4s 164ms/step - loss: 1.1234 - accuracy: 0.5213 - val_loss: 1.8230 - val_accuracy: 0.4298\n",
      "Epoch 3/25\n",
      "22/22 [==============================] - 4s 161ms/step - loss: 0.9116 - accuracy: 0.6321 - val_loss: 1.7406 - val_accuracy: 0.3967\n",
      "Epoch 4/25\n",
      "22/22 [==============================] - 4s 191ms/step - loss: 0.6957 - accuracy: 0.7599 - val_loss: 1.4196 - val_accuracy: 0.4959\n",
      "Epoch 5/25\n",
      "22/22 [==============================] - 4s 192ms/step - loss: 0.5235 - accuracy: 0.8239 - val_loss: 1.8859 - val_accuracy: 0.4711\n",
      "Epoch 6/25\n",
      "22/22 [==============================] - 4s 189ms/step - loss: 0.3509 - accuracy: 0.8793 - val_loss: 1.9990 - val_accuracy: 0.4876\n",
      "Epoch 7/25\n",
      "22/22 [==============================] - 4s 163ms/step - loss: 0.2940 - accuracy: 0.9091 - val_loss: 1.5204 - val_accuracy: 0.5785\n",
      "Epoch 8/25\n",
      "22/22 [==============================] - 4s 161ms/step - loss: 0.1921 - accuracy: 0.9503 - val_loss: 1.8570 - val_accuracy: 0.6116\n",
      "Epoch 9/25\n",
      "22/22 [==============================] - 4s 162ms/step - loss: 0.1479 - accuracy: 0.9616 - val_loss: 2.0533 - val_accuracy: 0.5455\n",
      "Epoch 10/25\n",
      "22/22 [==============================] - 4s 163ms/step - loss: 0.1079 - accuracy: 0.9773 - val_loss: 2.0015 - val_accuracy: 0.5537\n",
      "Epoch 11/25\n",
      "22/22 [==============================] - 4s 163ms/step - loss: 0.1045 - accuracy: 0.9688 - val_loss: 2.0054 - val_accuracy: 0.5455\n",
      "Epoch 12/25\n",
      "22/22 [==============================] - 4s 166ms/step - loss: 0.0891 - accuracy: 0.9773 - val_loss: 2.0873 - val_accuracy: 0.5537\n",
      "Epoch 13/25\n",
      "22/22 [==============================] - 4s 160ms/step - loss: 0.0972 - accuracy: 0.9716 - val_loss: 3.4674 - val_accuracy: 0.5455\n",
      "Epoch 14/25\n",
      "22/22 [==============================] - 4s 165ms/step - loss: 0.0913 - accuracy: 0.9787 - val_loss: 1.8759 - val_accuracy: 0.6116\n",
      "Epoch 15/25\n",
      "22/22 [==============================] - 4s 162ms/step - loss: 0.0606 - accuracy: 0.9886 - val_loss: 2.4381 - val_accuracy: 0.5868\n",
      "Epoch 16/25\n",
      "22/22 [==============================] - 4s 162ms/step - loss: 0.0572 - accuracy: 0.9886 - val_loss: 2.2216 - val_accuracy: 0.6281\n",
      "Epoch 17/25\n",
      "22/22 [==============================] - 4s 161ms/step - loss: 0.0382 - accuracy: 0.9943 - val_loss: 2.9067 - val_accuracy: 0.5868\n",
      "Epoch 18/25\n",
      "22/22 [==============================] - 4s 160ms/step - loss: 0.0325 - accuracy: 0.9929 - val_loss: 2.3766 - val_accuracy: 0.6446\n",
      "Epoch 19/25\n",
      "22/22 [==============================] - 4s 164ms/step - loss: 0.0340 - accuracy: 0.9915 - val_loss: 2.2990 - val_accuracy: 0.6446\n",
      "Epoch 20/25\n",
      "22/22 [==============================] - 4s 162ms/step - loss: 0.0325 - accuracy: 0.9929 - val_loss: 2.7358 - val_accuracy: 0.6281\n",
      "Epoch 21/25\n",
      "22/22 [==============================] - 4s 163ms/step - loss: 0.0363 - accuracy: 0.9943 - val_loss: 3.6205 - val_accuracy: 0.5868\n",
      "Epoch 22/25\n",
      "22/22 [==============================] - 4s 163ms/step - loss: 0.0214 - accuracy: 0.9986 - val_loss: 2.4600 - val_accuracy: 0.6529\n",
      "Epoch 23/25\n",
      "22/22 [==============================] - 4s 160ms/step - loss: 0.0203 - accuracy: 0.9986 - val_loss: 2.9172 - val_accuracy: 0.5950\n",
      "Epoch 24/25\n",
      "22/22 [==============================] - 4s 162ms/step - loss: 0.0296 - accuracy: 0.9929 - val_loss: 2.2906 - val_accuracy: 0.6529\n",
      "Epoch 25/25\n",
      "22/22 [==============================] - 4s 162ms/step - loss: 0.0576 - accuracy: 0.9759 - val_loss: 4.1622 - val_accuracy: 0.5620\n"
     ]
    },
    {
     "data": {
      "text/plain": [
       "<keras.callbacks.History at 0x2357b788dc0>"
      ]
     },
     "execution_count": 16,
     "metadata": {},
     "output_type": "execute_result"
    }
   ],
   "source": [
    "cnn.fit(x = training_set, validation_data = test_set, epochs = 25)"
   ]
  },
  {
   "cell_type": "code",
   "execution_count": 17,
   "id": "5e8586e6",
   "metadata": {},
   "outputs": [
    {
     "data": {
      "image/png": "[encoded data removed]",
      "text/plain": [
       "<PIL.Image.Image image mode=RGB size=64x64 at 0x23508166640>"
      ]
     },
     "execution_count": 17,
     "metadata": {},
     "output_type": "execute_result"
    }
   ],
   "source": [
    "from tensorflow.keras.preprocessing import image\n",
    "test_image = image.load_img(\"C:\\\\Users\\\\Kartik\\\\OneDrive\\\\Desktop\\\\lll\\\\train_data\\\\speed 80\\\\007_0047.png\", target_size = (64, 64))\n",
    "test_image\n",
    "\n",
    "\n",
    "\n",
    "\n",
    "\n"
   ]
  },
  {
   "cell_type": "code",
   "execution_count": null,
   "id": "ab513573",
   "metadata": {},
   "outputs": [],
   "source": []
  },
  {
   "cell_type": "code",
   "execution_count": 18,
   "id": "e01a4f9f",
   "metadata": {
    "scrolled": true
   },
   "outputs": [
    {
     "name": "stdout",
     "output_type": "stream",
     "text": [
      "1/1 [==============================] - 0s 111ms/step\n",
      "3\n"
     ]
    }
   ],
   "source": [
    "import numpy as np\n",
    "from tensorflow.keras.preprocessing import image\n",
    "\n",
    "test_image = image.load_img(\"C:\\\\Users\\\\Kartik\\\\OneDrive\\\\Desktop\\\\lll\\\\train_data\\\\speed 80\\\\007_0047.png\" , target_size = (64, 64))\n",
    "\n",
    "\n",
    "test_image = image.img_to_array(test_image)\n",
    "test_image = np.expand_dims(test_image,axis = 0)\n",
    "\n",
    "\n",
    "result = cnn.predict(test_image)\n",
    "\n",
    "result=result.astype(int)\n",
    "Y=training_set.class_indices\n",
    "j=0\n",
    "i = 0\n",
    "while i < 4:\n",
    "    \n",
    "    if result[0][i] == 1:\n",
    "        break\n",
    "    i=i+1\n",
    "print(i)\n",
    "j=i\n",
    "if j == 0:\n",
    " prediction = 'speed 40'\n",
    "    \n",
    "elif j == 1:\n",
    " prediction = 'speed 50'\n",
    "elif j == 2:\n",
    " prediction = 'speed 60'\n",
    "elif j == 3:\n",
    " prediction = 'speed 80'"
   ]
  },
  {
   "cell_type": "code",
   "execution_count": 19,
   "id": "bc3454cc",
   "metadata": {},
   "outputs": [
    {
     "name": "stdout",
     "output_type": "stream",
     "text": [
      "speed 80\n"
     ]
    }
   ],
   "source": [
    "print(prediction)"
   ]
  },
  {
   "cell_type": "code",
   "execution_count": 20,
   "id": "62b19d02",
   "metadata": {},
   "outputs": [
    {
     "data": {
      "image/png": "[encoded data removed]",
      "text/plain": [
       "<PIL.Image.Image image mode=RGB size=64x64 at 0x235062E5A00>"
      ]
     },
     "execution_count": 20,
     "metadata": {},
     "output_type": "execute_result"
    }
   ],
   "source": [
    "from tensorflow.keras.preprocessing import image\n",
    "test_image = image.load_img(\"C:\\\\Users\\\\Kartik\\\\OneDrive\\\\Desktop\\\\lll\\\\train_data\\\\speed 60\\\\005_1_0001.png\", target_size = (64, 64))\n",
    "test_image\n",
    "\n",
    "\n",
    "\n"
   ]
  },
  {
   "cell_type": "code",
   "execution_count": 23,
   "id": "7dbb635c",
   "metadata": {},
   "outputs": [
    {
     "name": "stdout",
     "output_type": "stream",
     "text": [
      "1/1 [==============================] - 0s 28ms/step\n",
      "2\n"
     ]
    }
   ],
   "source": [
    "import numpy as np\n",
    "from tensorflow.keras.preprocessing import image\n",
    "\n",
    "test_image = image.load_img(\"C:\\\\Users\\\\Kartik\\\\OneDrive\\\\Desktop\\\\lll\\\\train_data\\\\speed 60\\\\005_1_0001.png\" , target_size = (64, 64))\n",
    "\n",
    "\n",
    "test_image = image.img_to_array(test_image)\n",
    "test_image = np.expand_dims(test_image,axis = 0)\n",
    "\n",
    "\n",
    "result = cnn.predict(test_image)\n",
    "\n",
    "result=result.astype(int)\n",
    "Y=training_set.class_indices\n",
    "j=0\n",
    "i = 0\n",
    "while i < 4:\n",
    "    \n",
    "    if result[0][i] == 1:\n",
    "        break\n",
    "    i=i+1\n",
    "print(i)\n",
    "j=i\n",
    "if j == 0:\n",
    " prediction = 'speed 40'\n",
    "    \n",
    "elif j == 1:\n",
    " prediction = 'speed 50'\n",
    "elif j == 2:\n",
    " prediction = 'speed 60'\n",
    "elif j == 3:\n",
    " prediction = 'speed 80'"
   ]
  },
  {
   "cell_type": "code",
   "execution_count": 24,
   "id": "3eea2d8b",
   "metadata": {},
   "outputs": [
    {
     "name": "stdout",
     "output_type": "stream",
     "text": [
      "speed 60\n"
     ]
    }
   ],
   "source": [
    "print(prediction)"
   ]
  },
  {
   "cell_type": "code",
   "execution_count": null,
   "id": "482057f8",
   "metadata": {},
   "outputs": [],
   "source": []
  }
 ],
 "metadata": {
  "kernelspec": {
   "display_name": "Python 3",
   "language": "python",
   "name": "python3"
  },
  "language_info": {
   "codemirror_mode": {
    "name": "ipython",
    "version": 3
   },
   "file_extension": ".py",
   "mimetype": "text/x-python",
   "name": "python",
   "nbconvert_exporter": "python",
   "pygments_lexer": "ipython3",
   "version": "3.8.8"
  }
 },
 "nbformat": 4,
 "nbformat_minor": 5
}
